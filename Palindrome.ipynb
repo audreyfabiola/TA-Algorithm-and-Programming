{
 "cells": [
  {
   "cell_type": "markdown",
   "metadata": {},
   "source": [
    "Make a program that checks if a number or a string is a palindrome (something that is same when reversed) \n",
    "Take an input for the word to be checked.\n",
    "(no slicing and using reverse)"
   ]
  },
  {
   "cell_type": "code",
   "execution_count": 11,
   "metadata": {},
   "outputs": [
    {
     "name": "stdout",
     "output_type": "stream",
     "text": [
      "Lets check if your number or word is a palindrome or not!\n",
      "Input: \n",
      "Palindrome\n"
     ]
    }
   ],
   "source": [
    "print(\"Lets check if your number or word is a palindrome or not!\")\n",
    "string = input(print(\"Input: \"))\n",
    "x = \"\"\n",
    "\n",
    "for i in string:\n",
    "    x = i+x\n",
    "\n",
    "if x == string:\n",
    "    print(\"Palindrome\")\n",
    "else:\n",
    "    print(\"Not a palindrome\")"
   ]
  }
 ],
 "metadata": {
  "kernelspec": {
   "display_name": "Python 3.10.7 64-bit",
   "language": "python",
   "name": "python3"
  },
  "language_info": {
   "codemirror_mode": {
    "name": "ipython",
    "version": 3
   },
   "file_extension": ".py",
   "mimetype": "text/x-python",
   "name": "python",
   "nbconvert_exporter": "python",
   "pygments_lexer": "ipython3",
   "version": "3.10.7"
  },
  "orig_nbformat": 4,
  "vscode": {
   "interpreter": {
    "hash": "aee8b7b246df8f9039afb4144a1f6fd8d2ca17a180786b69acc140d282b71a49"
   }
  }
 },
 "nbformat": 4,
 "nbformat_minor": 2
}
